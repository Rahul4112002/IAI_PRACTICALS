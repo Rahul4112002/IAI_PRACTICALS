{
 "cells": [
  {
   "cell_type": "markdown",
   "id": "a5b03f9b",
   "metadata": {},
   "source": [
    "# Hill Climb"
   ]
  },
  {
   "cell_type": "code",
   "execution_count": 1,
   "id": "f3f06ce5",
   "metadata": {},
   "outputs": [
    {
     "name": "stdout",
     "output_type": "stream",
     "text": [
      "[[30, 9, 39, 12, 47, 18, 21, 6, 30, 15], [44, 49, 9, 1, 44, 24, 39, 26, 27, 45], [13, 3, 33, 24, 22, 44, 42, 20, 28, 34], [28, 45, 39, 32, 11, 10, 5, 28, 27, 31], [26, 3, 38, 42, 44, 30, 39, 36, 24, 41], [32, 41, 17, 39, 8, 45, 30, 17, 38, 18], [30, 3, 11, 38, 25, 8, 4, 47, 41, 12], [41, 39, 40, 10, 33, 8, 8, 8, 24, 6], [6, 22, 35, 14, 32, 47, 34, 35, 18, 38], [25, 11, 39, 17, 32, 7, 17, 23, 45, 26]]\n",
      "\n",
      "Step # 1\n",
      "Current state coordinates:  (0, 1)\n",
      "Current state value:  9\n",
      "\n",
      "Step # 2\n",
      "Current state coordinates:  (1, 1)\n",
      "Current state value:  49\n",
      "\n",
      "Step # 3\n",
      "Optimization objective reached.\n",
      "Final state coordinates:  (1, 1)\n",
      "Final state value:  49\n"
     ]
    }
   ],
   "source": [
    "import random\n",
    "\n",
    "def find_neighbours(state, landscape):\n",
    "    neighbours = []\n",
    "    dim = (len(landscape), len(landscape[0]))\n",
    "\n",
    "    # left neighbour\n",
    "    if state[0] != 0:\n",
    "        neighbours.append((state[0] - 1, state[1]))\n",
    "\n",
    "    # right neighbour\n",
    "    if state[0] != dim[0] - 1:\n",
    "        neighbours.append((state[0] + 1, state[1]))\n",
    "\n",
    "    # top neighbour\n",
    "    if state[1] != 0:\n",
    "        neighbours.append((state[0], state[1] - 1))\n",
    "\n",
    "    # bottom neighbour\n",
    "    if state[1] != dim[1] - 1:\n",
    "        neighbours.append((state[0], state[1] + 1))\n",
    "\n",
    "    # top left\n",
    "    if state[0] != 0 and state[1] != 0:\n",
    "        neighbours.append((state[0] - 1, state[1] - 1))\n",
    "\n",
    "    # bottom left\n",
    "    if state[0] != 0 and state[1] != dim[1] - 1:\n",
    "        neighbours.append((state[0] - 1, state[1] + 1))\n",
    "\n",
    "    # top right\n",
    "    if state[0] != dim[0] - 1 and state[1] != 0:\n",
    "        neighbours.append((state[0] + 1, state[1] - 1))\n",
    "\n",
    "    # bottom right\n",
    "    if state[0] != dim[0] - 1 and state[1] != dim[1] - 1:\n",
    "        neighbours.append((state[0] + 1, state[1] + 1))\n",
    "\n",
    "    return neighbours\n",
    "\n",
    "\n",
    "# Current optimization objective: local/global maximum\n",
    "def hill_climb(curr_state, landscape):\n",
    "    neighbours = find_neighbours(curr_state, landscape)\n",
    "    ascended = False\n",
    "    next_state = curr_state\n",
    "    for neighbour in neighbours: #Find the neighbour with the greatest value\n",
    "        if landscape[neighbour[0]][neighbour[1]] > landscape[next_state[0]][next_state[1]]:\n",
    "            next_state = neighbour\n",
    "            ascended = True\n",
    "\n",
    "    return ascended, next_state\n",
    "\n",
    "\n",
    "def __main__():\n",
    "    landscape = [[random.randint(1, 50) for j in range(10)] for i in range(10)]\n",
    "    print(landscape)\n",
    "    start_state = (0, 1)  # matrix index coordinates\n",
    "    current_state = start_state\n",
    "    count = 1\n",
    "    ascending = True\n",
    "    while ascending:\n",
    "        print(\"\\nStep #\", count)\n",
    "        print(\"Current state coordinates: \", current_state)\n",
    "        print(\"Current state value: \", landscape[current_state[0]][current_state[1]])\n",
    "        count += 1\n",
    "        ascending, current_state = hill_climb(current_state, landscape)\n",
    "\n",
    "    print(\"\\nStep #\", count)\n",
    "    print(\"Optimization objective reached.\")\n",
    "    print(\"Final state coordinates: \", current_state)\n",
    "    print(\"Final state value: \", landscape[current_state[0]][current_state[1]])\n",
    "\n",
    "\n",
    "__main__()\n"
   ]
  },
  {
   "cell_type": "markdown",
   "id": "8dfb7862",
   "metadata": {},
   "source": [
    "# MIN-MAX"
   ]
  },
  {
   "cell_type": "code",
   "execution_count": 2,
   "id": "e543e1fa",
   "metadata": {},
   "outputs": [
    {
     "name": "stdout",
     "output_type": "stream",
     "text": [
      "The optimal value is : 12\n"
     ]
    }
   ],
   "source": [
    "# maximizing player can get\n",
    "import math\n",
    "def minimax (curDepth, nodeIndex,\n",
    "\t\t\tmaxTurn, scores,\n",
    "\t\t\ttargetDepth):\n",
    "\n",
    "\t# base case : targetDepth reached\n",
    "\tif (curDepth == targetDepth):\n",
    "\t\treturn scores[nodeIndex]\n",
    "\t\n",
    "\tif (maxTurn):\n",
    "\t\treturn max(minimax(curDepth + 1, nodeIndex * 2,\n",
    "\t\t\t\t\tFalse, scores, targetDepth),\n",
    "\t\t\t\tminimax(curDepth + 1, nodeIndex * 2 + 1,\n",
    "\t\t\t\t\tFalse, scores, targetDepth))\n",
    "\t\n",
    "\telse:\n",
    "\t\treturn min(minimax(curDepth + 1, nodeIndex * 2,\n",
    "\t\t\t\t\tTrue, scores, targetDepth),\n",
    "\t\t\t\tminimax(curDepth + 1, nodeIndex * 2 + 1,\n",
    "\t\t\t\t\tTrue, scores, targetDepth))\n",
    "\t\n",
    "# Driver code\n",
    "scores = [3, 5, 2, 9, 12, 5, 23, 23]\n",
    "\n",
    "treeDepth = math.log(len(scores), 2)\n",
    "\n",
    "print(\"The optimal value is : \", end = \"\")\n",
    "print(minimax(0, 0, True, scores, treeDepth))\n",
    "\n"
   ]
  },
  {
   "cell_type": "markdown",
   "id": "cb7a9b4c",
   "metadata": {},
   "source": [
    "# DFS"
   ]
  },
  {
   "cell_type": "code",
   "execution_count": 3,
   "id": "0a0f12a4",
   "metadata": {},
   "outputs": [
    {
     "name": "stdout",
     "output_type": "stream",
     "text": [
      "Following is the Depth-First Search\n",
      "H\n",
      "A\n",
      "B\n",
      "C\n",
      "E\n",
      "F\n",
      "G\n",
      "D\n"
     ]
    }
   ],
   "source": [
    "# Using a Python dictionary to act as an adjacency list\n",
    "graph = {\n",
    "  'H' : ['A'],\n",
    "  'A' : ['B','D'],\n",
    "  'B' : ['C', 'F'],\n",
    "  'C' : ['E','G','H'],\n",
    "  'D' : ['F'],\n",
    "  'E' : ['F','B'],\n",
    "  'F' : ['A'],\n",
    "  'G' : ['E','H']\n",
    "}\n",
    "\n",
    "visited = set() # Set to keep track of visited nodes of graph.\n",
    "\n",
    "def dfs(visited, graph, node):  #function for dfs \n",
    "    if node not in visited:\n",
    "        print (node)\n",
    "        visited.add(node)\n",
    "        for neighbour in graph[node]:\n",
    "            dfs(visited, graph, neighbour)\n",
    "\n",
    "# Driver Code\n",
    "print(\"Following is the Depth-First Search\")\n",
    "dfs(visited, graph, 'H')"
   ]
  },
  {
   "cell_type": "markdown",
   "id": "f1e80ed1",
   "metadata": {},
   "source": [
    "# "
   ]
  },
  {
   "cell_type": "code",
   "execution_count": 4,
   "id": "bdb312fa",
   "metadata": {},
   "outputs": [
    {
     "name": "stdout",
     "output_type": "stream",
     "text": [
      "Following is the Breadth-First Search\n",
      "A B D C F E G "
     ]
    }
   ],
   "source": [
    "graph = {\n",
    "  'A' : ['B','D'],\n",
    "  'B' : ['C', 'F'],\n",
    "  'C' : ['E','G'],\n",
    "  'D' : ['F'],\n",
    "  'E' : ['F','B'],\n",
    "  'F' : ['A'],\n",
    "  'G' : ['E']\n",
    "}\n",
    "\n",
    "visited = [] # List for visited nodes.\n",
    "queue = []     #Initialize a queue\n",
    "\n",
    "def bfs(visited, graph, node): \n",
    "    visited.append(node)\n",
    "    queue.append(node)\n",
    "    \n",
    "    while queue:          # Creating loop to visit each node\n",
    "        m = queue.pop(0) \n",
    "        print (m, end = \" \") \n",
    "        for neighbour in graph[m]:\n",
    "            if neighbour not in visited:\n",
    "                visited.append(neighbour)\n",
    "                queue.append(neighbour)\n",
    "\n",
    "# Driver Code\n",
    "print(\"Following is the Breadth-First Search\")\n",
    "bfs(visited, graph, 'A')    # function calling"
   ]
  },
  {
   "cell_type": "code",
   "execution_count": null,
   "id": "2ff3ca42",
   "metadata": {},
   "outputs": [],
   "source": []
  }
 ],
 "metadata": {
  "kernelspec": {
   "display_name": "Python 3 (ipykernel)",
   "language": "python",
   "name": "python3"
  },
  "language_info": {
   "codemirror_mode": {
    "name": "ipython",
    "version": 3
   },
   "file_extension": ".py",
   "mimetype": "text/x-python",
   "name": "python",
   "nbconvert_exporter": "python",
   "pygments_lexer": "ipython3",
   "version": "3.10.5"
  }
 },
 "nbformat": 4,
 "nbformat_minor": 5
}
